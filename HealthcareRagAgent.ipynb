{
 "cells": [
  {
   "cell_type": "code",
   "execution_count": 1,
   "id": "1103ba6d-54c0-441d-b044-fe63864ba426",
   "metadata": {},
   "outputs": [
    {
     "name": "stdout",
     "output_type": "stream",
     "text": [
      "Requirement already satisfied: beautifulsoup4 in c:\\users\\gayat\\appdata\\local\\programs\\python\\python313\\lib\\site-packages (4.13.5)\n",
      "Requirement already satisfied: langchain-community in c:\\users\\gayat\\appdata\\local\\programs\\python\\python313\\lib\\site-packages (0.3.29)\n",
      "Requirement already satisfied: tiktoken in c:\\users\\gayat\\appdata\\local\\programs\\python\\python313\\lib\\site-packages (0.11.0)\n",
      "Requirement already satisfied: langchainhub in c:\\users\\gayat\\appdata\\local\\programs\\python\\python313\\lib\\site-packages (0.1.21)\n",
      "Requirement already satisfied: langchain in c:\\users\\gayat\\appdata\\local\\programs\\python\\python313\\lib\\site-packages (0.3.27)\n",
      "Requirement already satisfied: langgraph in c:\\users\\gayat\\appdata\\local\\programs\\python\\python313\\lib\\site-packages (0.6.10)\n",
      "Requirement already satisfied: tavily-python in c:\\users\\gayat\\appdata\\local\\programs\\python\\python313\\lib\\site-packages (0.7.12)\n",
      "Requirement already satisfied: langchain-openai in c:\\users\\gayat\\appdata\\local\\programs\\python\\python313\\lib\\site-packages (0.3.33)\n",
      "Requirement already satisfied: python-dotenv in c:\\users\\gayat\\appdata\\local\\programs\\python\\python313\\lib\\site-packages (1.1.1)\n",
      "Requirement already satisfied: black in c:\\users\\gayat\\appdata\\local\\programs\\python\\python313\\lib\\site-packages (25.9.0)\n",
      "Requirement already satisfied: isort in c:\\users\\gayat\\appdata\\local\\programs\\python\\python313\\lib\\site-packages (7.0.0)\n",
      "Requirement already satisfied: pytest in c:\\users\\gayat\\appdata\\local\\programs\\python\\python313\\lib\\site-packages (8.4.2)\n",
      "Requirement already satisfied: soupsieve>1.2 in c:\\users\\gayat\\appdata\\local\\programs\\python\\python313\\lib\\site-packages (from beautifulsoup4) (2.8)\n",
      "Requirement already satisfied: typing-extensions>=4.0.0 in c:\\users\\gayat\\appdata\\local\\programs\\python\\python313\\lib\\site-packages (from beautifulsoup4) (4.15.0)\n",
      "Requirement already satisfied: langchain-core<2.0.0,>=0.3.75 in c:\\users\\gayat\\appdata\\local\\programs\\python\\python313\\lib\\site-packages (from langchain-community) (0.3.76)\n",
      "Requirement already satisfied: SQLAlchemy<3,>=1.4 in c:\\users\\gayat\\appdata\\local\\programs\\python\\python313\\lib\\site-packages (from langchain-community) (2.0.43)\n",
      "Requirement already satisfied: requests<3,>=2.32.5 in c:\\users\\gayat\\appdata\\local\\programs\\python\\python313\\lib\\site-packages (from langchain-community) (2.32.5)\n",
      "Requirement already satisfied: PyYAML>=5.3 in c:\\users\\gayat\\appdata\\local\\programs\\python\\python313\\lib\\site-packages (from langchain-community) (6.0.2)\n",
      "Requirement already satisfied: aiohttp<4.0.0,>=3.8.3 in c:\\users\\gayat\\appdata\\local\\programs\\python\\python313\\lib\\site-packages (from langchain-community) (3.12.15)\n",
      "Requirement already satisfied: tenacity!=8.4.0,<10,>=8.1.0 in c:\\users\\gayat\\appdata\\local\\programs\\python\\python313\\lib\\site-packages (from langchain-community) (9.1.2)\n",
      "Requirement already satisfied: dataclasses-json<0.7,>=0.6.7 in c:\\users\\gayat\\appdata\\local\\programs\\python\\python313\\lib\\site-packages (from langchain-community) (0.6.7)\n",
      "Requirement already satisfied: pydantic-settings<3.0.0,>=2.10.1 in c:\\users\\gayat\\appdata\\local\\programs\\python\\python313\\lib\\site-packages (from langchain-community) (2.10.1)\n",
      "Requirement already satisfied: langsmith>=0.1.125 in c:\\users\\gayat\\appdata\\local\\programs\\python\\python313\\lib\\site-packages (from langchain-community) (0.4.28)\n",
      "Requirement already satisfied: httpx-sse<1.0.0,>=0.4.0 in c:\\users\\gayat\\appdata\\local\\programs\\python\\python313\\lib\\site-packages (from langchain-community) (0.4.1)\n",
      "Requirement already satisfied: numpy>=2.1.0 in c:\\users\\gayat\\appdata\\local\\programs\\python\\python313\\lib\\site-packages (from langchain-community) (2.3.3)\n",
      "Requirement already satisfied: langchain-text-splitters<1.0.0,>=0.3.9 in c:\\users\\gayat\\appdata\\local\\programs\\python\\python313\\lib\\site-packages (from langchain) (0.3.11)\n",
      "Requirement already satisfied: pydantic<3.0.0,>=2.7.4 in c:\\users\\gayat\\appdata\\local\\programs\\python\\python313\\lib\\site-packages (from langchain) (2.11.9)\n",
      "Requirement already satisfied: aiohappyeyeballs>=2.5.0 in c:\\users\\gayat\\appdata\\local\\programs\\python\\python313\\lib\\site-packages (from aiohttp<4.0.0,>=3.8.3->langchain-community) (2.6.1)\n",
      "Requirement already satisfied: aiosignal>=1.4.0 in c:\\users\\gayat\\appdata\\local\\programs\\python\\python313\\lib\\site-packages (from aiohttp<4.0.0,>=3.8.3->langchain-community) (1.4.0)\n",
      "Requirement already satisfied: attrs>=17.3.0 in c:\\users\\gayat\\appdata\\local\\programs\\python\\python313\\lib\\site-packages (from aiohttp<4.0.0,>=3.8.3->langchain-community) (25.3.0)\n",
      "Requirement already satisfied: frozenlist>=1.1.1 in c:\\users\\gayat\\appdata\\local\\programs\\python\\python313\\lib\\site-packages (from aiohttp<4.0.0,>=3.8.3->langchain-community) (1.7.0)\n",
      "Requirement already satisfied: multidict<7.0,>=4.5 in c:\\users\\gayat\\appdata\\local\\programs\\python\\python313\\lib\\site-packages (from aiohttp<4.0.0,>=3.8.3->langchain-community) (6.6.4)\n",
      "Requirement already satisfied: propcache>=0.2.0 in c:\\users\\gayat\\appdata\\local\\programs\\python\\python313\\lib\\site-packages (from aiohttp<4.0.0,>=3.8.3->langchain-community) (0.3.2)\n",
      "Requirement already satisfied: yarl<2.0,>=1.17.0 in c:\\users\\gayat\\appdata\\local\\programs\\python\\python313\\lib\\site-packages (from aiohttp<4.0.0,>=3.8.3->langchain-community) (1.20.1)\n",
      "Requirement already satisfied: marshmallow<4.0.0,>=3.18.0 in c:\\users\\gayat\\appdata\\local\\programs\\python\\python313\\lib\\site-packages (from dataclasses-json<0.7,>=0.6.7->langchain-community) (3.26.1)\n",
      "Requirement already satisfied: typing-inspect<1,>=0.4.0 in c:\\users\\gayat\\appdata\\local\\programs\\python\\python313\\lib\\site-packages (from dataclasses-json<0.7,>=0.6.7->langchain-community) (0.9.0)\n",
      "Requirement already satisfied: jsonpatch<2.0,>=1.33 in c:\\users\\gayat\\appdata\\local\\programs\\python\\python313\\lib\\site-packages (from langchain-core<2.0.0,>=0.3.75->langchain-community) (1.33)\n",
      "Requirement already satisfied: packaging>=23.2 in c:\\users\\gayat\\appdata\\local\\programs\\python\\python313\\lib\\site-packages (from langchain-core<2.0.0,>=0.3.75->langchain-community) (24.2)\n",
      "Requirement already satisfied: jsonpointer>=1.9 in c:\\users\\gayat\\appdata\\local\\programs\\python\\python313\\lib\\site-packages (from jsonpatch<2.0,>=1.33->langchain-core<2.0.0,>=0.3.75->langchain-community) (3.0.0)\n",
      "Requirement already satisfied: annotated-types>=0.6.0 in c:\\users\\gayat\\appdata\\local\\programs\\python\\python313\\lib\\site-packages (from pydantic<3.0.0,>=2.7.4->langchain) (0.7.0)\n",
      "Requirement already satisfied: pydantic-core==2.33.2 in c:\\users\\gayat\\appdata\\local\\programs\\python\\python313\\lib\\site-packages (from pydantic<3.0.0,>=2.7.4->langchain) (2.33.2)\n",
      "Requirement already satisfied: typing-inspection>=0.4.0 in c:\\users\\gayat\\appdata\\local\\programs\\python\\python313\\lib\\site-packages (from pydantic<3.0.0,>=2.7.4->langchain) (0.4.1)\n",
      "Requirement already satisfied: charset_normalizer<4,>=2 in c:\\users\\gayat\\appdata\\local\\programs\\python\\python313\\lib\\site-packages (from requests<3,>=2.32.5->langchain-community) (3.4.3)\n",
      "Requirement already satisfied: idna<4,>=2.5 in c:\\users\\gayat\\appdata\\local\\programs\\python\\python313\\lib\\site-packages (from requests<3,>=2.32.5->langchain-community) (3.10)\n",
      "Requirement already satisfied: urllib3<3,>=1.21.1 in c:\\users\\gayat\\appdata\\local\\programs\\python\\python313\\lib\\site-packages (from requests<3,>=2.32.5->langchain-community) (2.5.0)\n",
      "Requirement already satisfied: certifi>=2017.4.17 in c:\\users\\gayat\\appdata\\local\\programs\\python\\python313\\lib\\site-packages (from requests<3,>=2.32.5->langchain-community) (2025.8.3)\n",
      "Requirement already satisfied: greenlet>=1 in c:\\users\\gayat\\appdata\\local\\programs\\python\\python313\\lib\\site-packages (from SQLAlchemy<3,>=1.4->langchain-community) (3.2.4)\n",
      "Requirement already satisfied: mypy-extensions>=0.3.0 in c:\\users\\gayat\\appdata\\local\\programs\\python\\python313\\lib\\site-packages (from typing-inspect<1,>=0.4.0->dataclasses-json<0.7,>=0.6.7->langchain-community) (1.1.0)\n",
      "Requirement already satisfied: regex>=2022.1.18 in c:\\users\\gayat\\appdata\\local\\programs\\python\\python313\\lib\\site-packages (from tiktoken) (2025.9.1)\n",
      "Requirement already satisfied: types-requests<3.0.0.0,>=2.31.0.2 in c:\\users\\gayat\\appdata\\local\\programs\\python\\python313\\lib\\site-packages (from langchainhub) (2.32.4.20250913)\n",
      "Requirement already satisfied: langgraph-checkpoint<3.0.0,>=2.1.0 in c:\\users\\gayat\\appdata\\local\\programs\\python\\python313\\lib\\site-packages (from langgraph) (2.1.2)\n",
      "Requirement already satisfied: langgraph-prebuilt<0.7.0,>=0.6.0 in c:\\users\\gayat\\appdata\\local\\programs\\python\\python313\\lib\\site-packages (from langgraph) (0.6.4)\n",
      "Requirement already satisfied: langgraph-sdk<0.3.0,>=0.2.2 in c:\\users\\gayat\\appdata\\local\\programs\\python\\python313\\lib\\site-packages (from langgraph) (0.2.9)\n",
      "Requirement already satisfied: xxhash>=3.5.0 in c:\\users\\gayat\\appdata\\local\\programs\\python\\python313\\lib\\site-packages (from langgraph) (3.6.0)\n",
      "Requirement already satisfied: ormsgpack>=1.10.0 in c:\\users\\gayat\\appdata\\local\\programs\\python\\python313\\lib\\site-packages (from langgraph-checkpoint<3.0.0,>=2.1.0->langgraph) (1.11.0)\n",
      "Requirement already satisfied: httpx>=0.25.2 in c:\\users\\gayat\\appdata\\local\\programs\\python\\python313\\lib\\site-packages (from langgraph-sdk<0.3.0,>=0.2.2->langgraph) (0.28.1)\n",
      "Requirement already satisfied: orjson>=3.10.1 in c:\\users\\gayat\\appdata\\local\\programs\\python\\python313\\lib\\site-packages (from langgraph-sdk<0.3.0,>=0.2.2->langgraph) (3.11.3)\n",
      "Requirement already satisfied: openai<2.0.0,>=1.104.2 in c:\\users\\gayat\\appdata\\local\\programs\\python\\python313\\lib\\site-packages (from langchain-openai) (1.108.0)\n",
      "Requirement already satisfied: anyio<5,>=3.5.0 in c:\\users\\gayat\\appdata\\local\\programs\\python\\python313\\lib\\site-packages (from openai<2.0.0,>=1.104.2->langchain-openai) (4.10.0)\n",
      "Requirement already satisfied: distro<2,>=1.7.0 in c:\\users\\gayat\\appdata\\local\\programs\\python\\python313\\lib\\site-packages (from openai<2.0.0,>=1.104.2->langchain-openai) (1.9.0)\n",
      "Requirement already satisfied: jiter<1,>=0.4.0 in c:\\users\\gayat\\appdata\\local\\programs\\python\\python313\\lib\\site-packages (from openai<2.0.0,>=1.104.2->langchain-openai) (0.11.0)\n",
      "Requirement already satisfied: sniffio in c:\\users\\gayat\\appdata\\local\\programs\\python\\python313\\lib\\site-packages (from openai<2.0.0,>=1.104.2->langchain-openai) (1.3.1)\n",
      "Requirement already satisfied: tqdm>4 in c:\\users\\gayat\\appdata\\local\\programs\\python\\python313\\lib\\site-packages (from openai<2.0.0,>=1.104.2->langchain-openai) (4.67.1)\n",
      "Requirement already satisfied: httpcore==1.* in c:\\users\\gayat\\appdata\\local\\programs\\python\\python313\\lib\\site-packages (from httpx>=0.25.2->langgraph-sdk<0.3.0,>=0.2.2->langgraph) (1.0.9)\n",
      "Requirement already satisfied: h11>=0.16 in c:\\users\\gayat\\appdata\\local\\programs\\python\\python313\\lib\\site-packages (from httpcore==1.*->httpx>=0.25.2->langgraph-sdk<0.3.0,>=0.2.2->langgraph) (0.16.0)\n",
      "Requirement already satisfied: click>=8.0.0 in c:\\users\\gayat\\appdata\\local\\programs\\python\\python313\\lib\\site-packages (from black) (8.3.0)\n",
      "Requirement already satisfied: pathspec>=0.9.0 in c:\\users\\gayat\\appdata\\local\\programs\\python\\python313\\lib\\site-packages (from black) (0.12.1)\n",
      "Requirement already satisfied: platformdirs>=2 in c:\\users\\gayat\\appdata\\local\\programs\\python\\python313\\lib\\site-packages (from black) (4.4.0)\n",
      "Requirement already satisfied: pytokens>=0.1.10 in c:\\users\\gayat\\appdata\\local\\programs\\python\\python313\\lib\\site-packages (from black) (0.2.0)\n",
      "Requirement already satisfied: colorama>=0.4 in c:\\users\\gayat\\appdata\\local\\programs\\python\\python313\\lib\\site-packages (from pytest) (0.4.6)\n",
      "Requirement already satisfied: iniconfig>=1 in c:\\users\\gayat\\appdata\\local\\programs\\python\\python313\\lib\\site-packages (from pytest) (2.1.0)\n",
      "Requirement already satisfied: pluggy<2,>=1.5 in c:\\users\\gayat\\appdata\\local\\programs\\python\\python313\\lib\\site-packages (from pytest) (1.6.0)\n",
      "Requirement already satisfied: pygments>=2.7.2 in c:\\users\\gayat\\appdata\\local\\programs\\python\\python313\\lib\\site-packages (from pytest) (2.19.2)\n",
      "Requirement already satisfied: requests-toolbelt>=1.0.0 in c:\\users\\gayat\\appdata\\local\\programs\\python\\python313\\lib\\site-packages (from langsmith>=0.1.125->langchain-community) (1.0.0)\n",
      "Requirement already satisfied: zstandard>=0.23.0 in c:\\users\\gayat\\appdata\\local\\programs\\python\\python313\\lib\\site-packages (from langsmith>=0.1.125->langchain-community) (0.25.0)\n",
      "Requirement already satisfied: langchain-chroma in c:\\users\\gayat\\appdata\\local\\programs\\python\\python313\\lib\\site-packages (0.2.6)\n",
      "Requirement already satisfied: langchain_google_genai in c:\\users\\gayat\\appdata\\local\\programs\\python\\python313\\lib\\site-packages (2.1.12)\n",
      "Requirement already satisfied: langchain-tavily==0.1.5 in c:\\users\\gayat\\appdata\\local\\programs\\python\\python313\\lib\\site-packages (0.1.5)\n",
      "Requirement already satisfied: aiohttp<4.0.0,>=3.11.14 in c:\\users\\gayat\\appdata\\local\\programs\\python\\python313\\lib\\site-packages (from langchain-tavily==0.1.5) (3.12.15)\n",
      "Requirement already satisfied: langchain<0.4.0,>=0.3.20 in c:\\users\\gayat\\appdata\\local\\programs\\python\\python313\\lib\\site-packages (from langchain-tavily==0.1.5) (0.3.27)\n",
      "Requirement already satisfied: langchain-core<0.4.0,>=0.3.15 in c:\\users\\gayat\\appdata\\local\\programs\\python\\python313\\lib\\site-packages (from langchain-tavily==0.1.5) (0.3.76)\n",
      "Requirement already satisfied: mypy<2.0.0,>=1.15.0 in c:\\users\\gayat\\appdata\\local\\programs\\python\\python313\\lib\\site-packages (from langchain-tavily==0.1.5) (1.18.2)\n",
      "Requirement already satisfied: aiohappyeyeballs>=2.5.0 in c:\\users\\gayat\\appdata\\local\\programs\\python\\python313\\lib\\site-packages (from aiohttp<4.0.0,>=3.11.14->langchain-tavily==0.1.5) (2.6.1)\n",
      "Requirement already satisfied: aiosignal>=1.4.0 in c:\\users\\gayat\\appdata\\local\\programs\\python\\python313\\lib\\site-packages (from aiohttp<4.0.0,>=3.11.14->langchain-tavily==0.1.5) (1.4.0)\n",
      "Requirement already satisfied: attrs>=17.3.0 in c:\\users\\gayat\\appdata\\local\\programs\\python\\python313\\lib\\site-packages (from aiohttp<4.0.0,>=3.11.14->langchain-tavily==0.1.5) (25.3.0)\n",
      "Requirement already satisfied: frozenlist>=1.1.1 in c:\\users\\gayat\\appdata\\local\\programs\\python\\python313\\lib\\site-packages (from aiohttp<4.0.0,>=3.11.14->langchain-tavily==0.1.5) (1.7.0)\n",
      "Requirement already satisfied: multidict<7.0,>=4.5 in c:\\users\\gayat\\appdata\\local\\programs\\python\\python313\\lib\\site-packages (from aiohttp<4.0.0,>=3.11.14->langchain-tavily==0.1.5) (6.6.4)\n",
      "Requirement already satisfied: propcache>=0.2.0 in c:\\users\\gayat\\appdata\\local\\programs\\python\\python313\\lib\\site-packages (from aiohttp<4.0.0,>=3.11.14->langchain-tavily==0.1.5) (0.3.2)\n",
      "Requirement already satisfied: yarl<2.0,>=1.17.0 in c:\\users\\gayat\\appdata\\local\\programs\\python\\python313\\lib\\site-packages (from aiohttp<4.0.0,>=3.11.14->langchain-tavily==0.1.5) (1.20.1)\n",
      "Requirement already satisfied: langchain-text-splitters<1.0.0,>=0.3.9 in c:\\users\\gayat\\appdata\\local\\programs\\python\\python313\\lib\\site-packages (from langchain<0.4.0,>=0.3.20->langchain-tavily==0.1.5) (0.3.11)\n",
      "Requirement already satisfied: langsmith>=0.1.17 in c:\\users\\gayat\\appdata\\local\\programs\\python\\python313\\lib\\site-packages (from langchain<0.4.0,>=0.3.20->langchain-tavily==0.1.5) (0.4.28)\n",
      "Requirement already satisfied: pydantic<3.0.0,>=2.7.4 in c:\\users\\gayat\\appdata\\local\\programs\\python\\python313\\lib\\site-packages (from langchain<0.4.0,>=0.3.20->langchain-tavily==0.1.5) (2.11.9)\n",
      "Requirement already satisfied: SQLAlchemy<3,>=1.4 in c:\\users\\gayat\\appdata\\local\\programs\\python\\python313\\lib\\site-packages (from langchain<0.4.0,>=0.3.20->langchain-tavily==0.1.5) (2.0.43)\n",
      "Requirement already satisfied: requests<3,>=2 in c:\\users\\gayat\\appdata\\local\\programs\\python\\python313\\lib\\site-packages (from langchain<0.4.0,>=0.3.20->langchain-tavily==0.1.5) (2.32.5)\n",
      "Requirement already satisfied: PyYAML>=5.3 in c:\\users\\gayat\\appdata\\local\\programs\\python\\python313\\lib\\site-packages (from langchain<0.4.0,>=0.3.20->langchain-tavily==0.1.5) (6.0.2)\n",
      "Requirement already satisfied: tenacity!=8.4.0,<10.0.0,>=8.1.0 in c:\\users\\gayat\\appdata\\local\\programs\\python\\python313\\lib\\site-packages (from langchain-core<0.4.0,>=0.3.15->langchain-tavily==0.1.5) (9.1.2)\n",
      "Requirement already satisfied: jsonpatch<2.0,>=1.33 in c:\\users\\gayat\\appdata\\local\\programs\\python\\python313\\lib\\site-packages (from langchain-core<0.4.0,>=0.3.15->langchain-tavily==0.1.5) (1.33)\n",
      "Requirement already satisfied: typing-extensions>=4.7 in c:\\users\\gayat\\appdata\\local\\programs\\python\\python313\\lib\\site-packages (from langchain-core<0.4.0,>=0.3.15->langchain-tavily==0.1.5) (4.15.0)\n",
      "Requirement already satisfied: packaging>=23.2 in c:\\users\\gayat\\appdata\\local\\programs\\python\\python313\\lib\\site-packages (from langchain-core<0.4.0,>=0.3.15->langchain-tavily==0.1.5) (24.2)\n",
      "Requirement already satisfied: jsonpointer>=1.9 in c:\\users\\gayat\\appdata\\local\\programs\\python\\python313\\lib\\site-packages (from jsonpatch<2.0,>=1.33->langchain-core<0.4.0,>=0.3.15->langchain-tavily==0.1.5) (3.0.0)\n",
      "Requirement already satisfied: mypy_extensions>=1.0.0 in c:\\users\\gayat\\appdata\\local\\programs\\python\\python313\\lib\\site-packages (from mypy<2.0.0,>=1.15.0->langchain-tavily==0.1.5) (1.1.0)\n",
      "Requirement already satisfied: pathspec>=0.9.0 in c:\\users\\gayat\\appdata\\local\\programs\\python\\python313\\lib\\site-packages (from mypy<2.0.0,>=1.15.0->langchain-tavily==0.1.5) (0.12.1)\n",
      "Requirement already satisfied: annotated-types>=0.6.0 in c:\\users\\gayat\\appdata\\local\\programs\\python\\python313\\lib\\site-packages (from pydantic<3.0.0,>=2.7.4->langchain<0.4.0,>=0.3.20->langchain-tavily==0.1.5) (0.7.0)\n",
      "Requirement already satisfied: pydantic-core==2.33.2 in c:\\users\\gayat\\appdata\\local\\programs\\python\\python313\\lib\\site-packages (from pydantic<3.0.0,>=2.7.4->langchain<0.4.0,>=0.3.20->langchain-tavily==0.1.5) (2.33.2)\n",
      "Requirement already satisfied: typing-inspection>=0.4.0 in c:\\users\\gayat\\appdata\\local\\programs\\python\\python313\\lib\\site-packages (from pydantic<3.0.0,>=2.7.4->langchain<0.4.0,>=0.3.20->langchain-tavily==0.1.5) (0.4.1)\n",
      "Requirement already satisfied: charset_normalizer<4,>=2 in c:\\users\\gayat\\appdata\\local\\programs\\python\\python313\\lib\\site-packages (from requests<3,>=2->langchain<0.4.0,>=0.3.20->langchain-tavily==0.1.5) (3.4.3)\n",
      "Requirement already satisfied: idna<4,>=2.5 in c:\\users\\gayat\\appdata\\local\\programs\\python\\python313\\lib\\site-packages (from requests<3,>=2->langchain<0.4.0,>=0.3.20->langchain-tavily==0.1.5) (3.10)\n",
      "Requirement already satisfied: urllib3<3,>=1.21.1 in c:\\users\\gayat\\appdata\\local\\programs\\python\\python313\\lib\\site-packages (from requests<3,>=2->langchain<0.4.0,>=0.3.20->langchain-tavily==0.1.5) (2.5.0)\n",
      "Requirement already satisfied: certifi>=2017.4.17 in c:\\users\\gayat\\appdata\\local\\programs\\python\\python313\\lib\\site-packages (from requests<3,>=2->langchain<0.4.0,>=0.3.20->langchain-tavily==0.1.5) (2025.8.3)\n",
      "Requirement already satisfied: greenlet>=1 in c:\\users\\gayat\\appdata\\local\\programs\\python\\python313\\lib\\site-packages (from SQLAlchemy<3,>=1.4->langchain<0.4.0,>=0.3.20->langchain-tavily==0.1.5) (3.2.4)\n",
      "Requirement already satisfied: numpy>=2.1.0 in c:\\users\\gayat\\appdata\\local\\programs\\python\\python313\\lib\\site-packages (from langchain-chroma) (2.3.3)\n",
      "Requirement already satisfied: chromadb>=1.0.20 in c:\\users\\gayat\\appdata\\local\\programs\\python\\python313\\lib\\site-packages (from langchain-chroma) (1.1.0)\n",
      "Requirement already satisfied: google-ai-generativelanguage<1,>=0.7 in c:\\users\\gayat\\appdata\\local\\programs\\python\\python313\\lib\\site-packages (from langchain_google_genai) (0.7.0)\n",
      "Requirement already satisfied: filetype<2,>=1.2 in c:\\users\\gayat\\appdata\\local\\programs\\python\\python313\\lib\\site-packages (from langchain_google_genai) (1.2.0)\n",
      "Requirement already satisfied: google-api-core!=2.0.*,!=2.1.*,!=2.10.*,!=2.2.*,!=2.3.*,!=2.4.*,!=2.5.*,!=2.6.*,!=2.7.*,!=2.8.*,!=2.9.*,<3.0.0,>=1.34.1 in c:\\users\\gayat\\appdata\\local\\programs\\python\\python313\\lib\\site-packages (from google-api-core[grpc]!=2.0.*,!=2.1.*,!=2.10.*,!=2.2.*,!=2.3.*,!=2.4.*,!=2.5.*,!=2.6.*,!=2.7.*,!=2.8.*,!=2.9.*,<3.0.0,>=1.34.1->google-ai-generativelanguage<1,>=0.7->langchain_google_genai) (2.26.0)\n",
      "Requirement already satisfied: google-auth!=2.24.0,!=2.25.0,<3.0.0,>=2.14.1 in c:\\users\\gayat\\appdata\\local\\programs\\python\\python313\\lib\\site-packages (from google-ai-generativelanguage<1,>=0.7->langchain_google_genai) (2.40.3)\n",
      "Requirement already satisfied: proto-plus<2.0.0,>=1.22.3 in c:\\users\\gayat\\appdata\\local\\programs\\python\\python313\\lib\\site-packages (from google-ai-generativelanguage<1,>=0.7->langchain_google_genai) (1.26.1)\n",
      "Requirement already satisfied: protobuf!=4.21.0,!=4.21.1,!=4.21.2,!=4.21.3,!=4.21.4,!=4.21.5,<7.0.0,>=3.20.2 in c:\\users\\gayat\\appdata\\local\\programs\\python\\python313\\lib\\site-packages (from google-ai-generativelanguage<1,>=0.7->langchain_google_genai) (6.32.1)\n",
      "Requirement already satisfied: googleapis-common-protos<2.0.0,>=1.56.2 in c:\\users\\gayat\\appdata\\local\\programs\\python\\python313\\lib\\site-packages (from google-api-core!=2.0.*,!=2.1.*,!=2.10.*,!=2.2.*,!=2.3.*,!=2.4.*,!=2.5.*,!=2.6.*,!=2.7.*,!=2.8.*,!=2.9.*,<3.0.0,>=1.34.1->google-api-core[grpc]!=2.0.*,!=2.1.*,!=2.10.*,!=2.2.*,!=2.3.*,!=2.4.*,!=2.5.*,!=2.6.*,!=2.7.*,!=2.8.*,!=2.9.*,<3.0.0,>=1.34.1->google-ai-generativelanguage<1,>=0.7->langchain_google_genai) (1.70.0)\n",
      "Requirement already satisfied: grpcio<2.0.0,>=1.33.2 in c:\\users\\gayat\\appdata\\local\\programs\\python\\python313\\lib\\site-packages (from google-api-core[grpc]!=2.0.*,!=2.1.*,!=2.10.*,!=2.2.*,!=2.3.*,!=2.4.*,!=2.5.*,!=2.6.*,!=2.7.*,!=2.8.*,!=2.9.*,<3.0.0,>=1.34.1->google-ai-generativelanguage<1,>=0.7->langchain_google_genai) (1.75.1)\n",
      "Requirement already satisfied: grpcio-status<2.0.0,>=1.33.2 in c:\\users\\gayat\\appdata\\local\\programs\\python\\python313\\lib\\site-packages (from google-api-core[grpc]!=2.0.*,!=2.1.*,!=2.10.*,!=2.2.*,!=2.3.*,!=2.4.*,!=2.5.*,!=2.6.*,!=2.7.*,!=2.8.*,!=2.9.*,<3.0.0,>=1.34.1->google-ai-generativelanguage<1,>=0.7->langchain_google_genai) (1.75.1)\n",
      "Requirement already satisfied: cachetools<6.0,>=2.0.0 in c:\\users\\gayat\\appdata\\local\\programs\\python\\python313\\lib\\site-packages (from google-auth!=2.24.0,!=2.25.0,<3.0.0,>=2.14.1->google-ai-generativelanguage<1,>=0.7->langchain_google_genai) (5.5.2)\n",
      "Requirement already satisfied: pyasn1-modules>=0.2.1 in c:\\users\\gayat\\appdata\\local\\programs\\python\\python313\\lib\\site-packages (from google-auth!=2.24.0,!=2.25.0,<3.0.0,>=2.14.1->google-ai-generativelanguage<1,>=0.7->langchain_google_genai) (0.4.2)\n",
      "Requirement already satisfied: rsa<5,>=3.1.4 in c:\\users\\gayat\\appdata\\local\\programs\\python\\python313\\lib\\site-packages (from google-auth!=2.24.0,!=2.25.0,<3.0.0,>=2.14.1->google-ai-generativelanguage<1,>=0.7->langchain_google_genai) (4.9.1)\n",
      "Requirement already satisfied: pyasn1>=0.1.3 in c:\\users\\gayat\\appdata\\local\\programs\\python\\python313\\lib\\site-packages (from rsa<5,>=3.1.4->google-auth!=2.24.0,!=2.25.0,<3.0.0,>=2.14.1->google-ai-generativelanguage<1,>=0.7->langchain_google_genai) (0.6.1)\n",
      "Requirement already satisfied: build>=1.0.3 in c:\\users\\gayat\\appdata\\local\\programs\\python\\python313\\lib\\site-packages (from chromadb>=1.0.20->langchain-chroma) (1.3.0)\n",
      "Requirement already satisfied: pybase64>=1.4.1 in c:\\users\\gayat\\appdata\\local\\programs\\python\\python313\\lib\\site-packages (from chromadb>=1.0.20->langchain-chroma) (1.4.2)\n",
      "Requirement already satisfied: uvicorn>=0.18.3 in c:\\users\\gayat\\appdata\\local\\programs\\python\\python313\\lib\\site-packages (from uvicorn[standard]>=0.18.3->chromadb>=1.0.20->langchain-chroma) (0.36.0)\n",
      "Requirement already satisfied: posthog<6.0.0,>=2.4.0 in c:\\users\\gayat\\appdata\\local\\programs\\python\\python313\\lib\\site-packages (from chromadb>=1.0.20->langchain-chroma) (5.4.0)\n",
      "Requirement already satisfied: onnxruntime>=1.14.1 in c:\\users\\gayat\\appdata\\local\\programs\\python\\python313\\lib\\site-packages (from chromadb>=1.0.20->langchain-chroma) (1.22.1)\n",
      "Requirement already satisfied: opentelemetry-api>=1.2.0 in c:\\users\\gayat\\appdata\\local\\programs\\python\\python313\\lib\\site-packages (from chromadb>=1.0.20->langchain-chroma) (1.37.0)\n",
      "Requirement already satisfied: opentelemetry-exporter-otlp-proto-grpc>=1.2.0 in c:\\users\\gayat\\appdata\\local\\programs\\python\\python313\\lib\\site-packages (from chromadb>=1.0.20->langchain-chroma) (1.37.0)\n",
      "Requirement already satisfied: opentelemetry-sdk>=1.2.0 in c:\\users\\gayat\\appdata\\local\\programs\\python\\python313\\lib\\site-packages (from chromadb>=1.0.20->langchain-chroma) (1.37.0)\n",
      "Requirement already satisfied: tokenizers>=0.13.2 in c:\\users\\gayat\\appdata\\local\\programs\\python\\python313\\lib\\site-packages (from chromadb>=1.0.20->langchain-chroma) (0.22.0)\n",
      "Requirement already satisfied: pypika>=0.48.9 in c:\\users\\gayat\\appdata\\local\\programs\\python\\python313\\lib\\site-packages (from chromadb>=1.0.20->langchain-chroma) (0.48.9)\n",
      "Requirement already satisfied: tqdm>=4.65.0 in c:\\users\\gayat\\appdata\\local\\programs\\python\\python313\\lib\\site-packages (from chromadb>=1.0.20->langchain-chroma) (4.67.1)\n",
      "Requirement already satisfied: overrides>=7.3.1 in c:\\users\\gayat\\appdata\\local\\programs\\python\\python313\\lib\\site-packages (from chromadb>=1.0.20->langchain-chroma) (7.7.0)\n",
      "Requirement already satisfied: importlib-resources in c:\\users\\gayat\\appdata\\local\\programs\\python\\python313\\lib\\site-packages (from chromadb>=1.0.20->langchain-chroma) (6.5.2)\n",
      "Requirement already satisfied: bcrypt>=4.0.1 in c:\\users\\gayat\\appdata\\local\\programs\\python\\python313\\lib\\site-packages (from chromadb>=1.0.20->langchain-chroma) (4.3.0)\n",
      "Requirement already satisfied: typer>=0.9.0 in c:\\users\\gayat\\appdata\\local\\programs\\python\\python313\\lib\\site-packages (from chromadb>=1.0.20->langchain-chroma) (0.19.1)\n",
      "Requirement already satisfied: kubernetes>=28.1.0 in c:\\users\\gayat\\appdata\\local\\programs\\python\\python313\\lib\\site-packages (from chromadb>=1.0.20->langchain-chroma) (33.1.0)\n",
      "Requirement already satisfied: mmh3>=4.0.1 in c:\\users\\gayat\\appdata\\local\\programs\\python\\python313\\lib\\site-packages (from chromadb>=1.0.20->langchain-chroma) (5.2.0)\n",
      "Requirement already satisfied: orjson>=3.9.12 in c:\\users\\gayat\\appdata\\local\\programs\\python\\python313\\lib\\site-packages (from chromadb>=1.0.20->langchain-chroma) (3.11.3)\n",
      "Requirement already satisfied: httpx>=0.27.0 in c:\\users\\gayat\\appdata\\local\\programs\\python\\python313\\lib\\site-packages (from chromadb>=1.0.20->langchain-chroma) (0.28.1)\n",
      "Requirement already satisfied: rich>=10.11.0 in c:\\users\\gayat\\appdata\\local\\programs\\python\\python313\\lib\\site-packages (from chromadb>=1.0.20->langchain-chroma) (14.1.0)\n",
      "Requirement already satisfied: jsonschema>=4.19.0 in c:\\users\\gayat\\appdata\\local\\programs\\python\\python313\\lib\\site-packages (from chromadb>=1.0.20->langchain-chroma) (4.25.1)\n",
      "Requirement already satisfied: six>=1.5 in c:\\users\\gayat\\appdata\\local\\programs\\python\\python313\\lib\\site-packages (from posthog<6.0.0,>=2.4.0->chromadb>=1.0.20->langchain-chroma) (1.17.0)\n",
      "Requirement already satisfied: python-dateutil>=2.2 in c:\\users\\gayat\\appdata\\local\\programs\\python\\python313\\lib\\site-packages (from posthog<6.0.0,>=2.4.0->chromadb>=1.0.20->langchain-chroma) (2.9.0.post0)\n",
      "Requirement already satisfied: backoff>=1.10.0 in c:\\users\\gayat\\appdata\\local\\programs\\python\\python313\\lib\\site-packages (from posthog<6.0.0,>=2.4.0->chromadb>=1.0.20->langchain-chroma) (2.2.1)\n",
      "Requirement already satisfied: distro>=1.5.0 in c:\\users\\gayat\\appdata\\local\\programs\\python\\python313\\lib\\site-packages (from posthog<6.0.0,>=2.4.0->chromadb>=1.0.20->langchain-chroma) (1.9.0)\n",
      "Requirement already satisfied: pyproject_hooks in c:\\users\\gayat\\appdata\\local\\programs\\python\\python313\\lib\\site-packages (from build>=1.0.3->chromadb>=1.0.20->langchain-chroma) (1.2.0)\n",
      "Requirement already satisfied: colorama in c:\\users\\gayat\\appdata\\local\\programs\\python\\python313\\lib\\site-packages (from build>=1.0.3->chromadb>=1.0.20->langchain-chroma) (0.4.6)\n",
      "Requirement already satisfied: anyio in c:\\users\\gayat\\appdata\\local\\programs\\python\\python313\\lib\\site-packages (from httpx>=0.27.0->chromadb>=1.0.20->langchain-chroma) (4.10.0)\n",
      "Requirement already satisfied: httpcore==1.* in c:\\users\\gayat\\appdata\\local\\programs\\python\\python313\\lib\\site-packages (from httpx>=0.27.0->chromadb>=1.0.20->langchain-chroma) (1.0.9)\n",
      "Requirement already satisfied: h11>=0.16 in c:\\users\\gayat\\appdata\\local\\programs\\python\\python313\\lib\\site-packages (from httpcore==1.*->httpx>=0.27.0->chromadb>=1.0.20->langchain-chroma) (0.16.0)\n",
      "Requirement already satisfied: jsonschema-specifications>=2023.03.6 in c:\\users\\gayat\\appdata\\local\\programs\\python\\python313\\lib\\site-packages (from jsonschema>=4.19.0->chromadb>=1.0.20->langchain-chroma) (2025.9.1)\n",
      "Requirement already satisfied: referencing>=0.28.4 in c:\\users\\gayat\\appdata\\local\\programs\\python\\python313\\lib\\site-packages (from jsonschema>=4.19.0->chromadb>=1.0.20->langchain-chroma) (0.36.2)\n",
      "Requirement already satisfied: rpds-py>=0.7.1 in c:\\users\\gayat\\appdata\\local\\programs\\python\\python313\\lib\\site-packages (from jsonschema>=4.19.0->chromadb>=1.0.20->langchain-chroma) (0.27.1)\n",
      "Requirement already satisfied: websocket-client!=0.40.0,!=0.41.*,!=0.42.*,>=0.32.0 in c:\\users\\gayat\\appdata\\local\\programs\\python\\python313\\lib\\site-packages (from kubernetes>=28.1.0->chromadb>=1.0.20->langchain-chroma) (1.8.0)\n",
      "Requirement already satisfied: requests-oauthlib in c:\\users\\gayat\\appdata\\local\\programs\\python\\python313\\lib\\site-packages (from kubernetes>=28.1.0->chromadb>=1.0.20->langchain-chroma) (2.0.0)\n",
      "Requirement already satisfied: oauthlib>=3.2.2 in c:\\users\\gayat\\appdata\\local\\programs\\python\\python313\\lib\\site-packages (from kubernetes>=28.1.0->chromadb>=1.0.20->langchain-chroma) (3.3.1)\n",
      "Requirement already satisfied: durationpy>=0.7 in c:\\users\\gayat\\appdata\\local\\programs\\python\\python313\\lib\\site-packages (from kubernetes>=28.1.0->chromadb>=1.0.20->langchain-chroma) (0.10)\n",
      "Requirement already satisfied: requests-toolbelt>=1.0.0 in c:\\users\\gayat\\appdata\\local\\programs\\python\\python313\\lib\\site-packages (from langsmith>=0.1.17->langchain<0.4.0,>=0.3.20->langchain-tavily==0.1.5) (1.0.0)\n",
      "Requirement already satisfied: zstandard>=0.23.0 in c:\\users\\gayat\\appdata\\local\\programs\\python\\python313\\lib\\site-packages (from langsmith>=0.1.17->langchain<0.4.0,>=0.3.20->langchain-tavily==0.1.5) (0.25.0)\n",
      "Requirement already satisfied: coloredlogs in c:\\users\\gayat\\appdata\\local\\programs\\python\\python313\\lib\\site-packages (from onnxruntime>=1.14.1->chromadb>=1.0.20->langchain-chroma) (15.0.1)\n",
      "Requirement already satisfied: flatbuffers in c:\\users\\gayat\\appdata\\local\\programs\\python\\python313\\lib\\site-packages (from onnxruntime>=1.14.1->chromadb>=1.0.20->langchain-chroma) (25.2.10)\n",
      "Requirement already satisfied: sympy in c:\\users\\gayat\\appdata\\local\\programs\\python\\python313\\lib\\site-packages (from onnxruntime>=1.14.1->chromadb>=1.0.20->langchain-chroma) (1.14.0)\n",
      "Requirement already satisfied: importlib-metadata<8.8.0,>=6.0 in c:\\users\\gayat\\appdata\\local\\programs\\python\\python313\\lib\\site-packages (from opentelemetry-api>=1.2.0->chromadb>=1.0.20->langchain-chroma) (8.7.0)\n",
      "Requirement already satisfied: zipp>=3.20 in c:\\users\\gayat\\appdata\\local\\programs\\python\\python313\\lib\\site-packages (from importlib-metadata<8.8.0,>=6.0->opentelemetry-api>=1.2.0->chromadb>=1.0.20->langchain-chroma) (3.23.0)\n",
      "Requirement already satisfied: opentelemetry-exporter-otlp-proto-common==1.37.0 in c:\\users\\gayat\\appdata\\local\\programs\\python\\python313\\lib\\site-packages (from opentelemetry-exporter-otlp-proto-grpc>=1.2.0->chromadb>=1.0.20->langchain-chroma) (1.37.0)\n",
      "Requirement already satisfied: opentelemetry-proto==1.37.0 in c:\\users\\gayat\\appdata\\local\\programs\\python\\python313\\lib\\site-packages (from opentelemetry-exporter-otlp-proto-grpc>=1.2.0->chromadb>=1.0.20->langchain-chroma) (1.37.0)\n",
      "Requirement already satisfied: opentelemetry-semantic-conventions==0.58b0 in c:\\users\\gayat\\appdata\\local\\programs\\python\\python313\\lib\\site-packages (from opentelemetry-sdk>=1.2.0->chromadb>=1.0.20->langchain-chroma) (0.58b0)\n",
      "Requirement already satisfied: markdown-it-py>=2.2.0 in c:\\users\\gayat\\appdata\\local\\programs\\python\\python313\\lib\\site-packages (from rich>=10.11.0->chromadb>=1.0.20->langchain-chroma) (4.0.0)\n",
      "Requirement already satisfied: pygments<3.0.0,>=2.13.0 in c:\\users\\gayat\\appdata\\local\\programs\\python\\python313\\lib\\site-packages (from rich>=10.11.0->chromadb>=1.0.20->langchain-chroma) (2.19.2)\n",
      "Requirement already satisfied: mdurl~=0.1 in c:\\users\\gayat\\appdata\\local\\programs\\python\\python313\\lib\\site-packages (from markdown-it-py>=2.2.0->rich>=10.11.0->chromadb>=1.0.20->langchain-chroma) (0.1.2)\n",
      "Requirement already satisfied: huggingface-hub<1.0,>=0.16.4 in c:\\users\\gayat\\appdata\\local\\programs\\python\\python313\\lib\\site-packages (from tokenizers>=0.13.2->chromadb>=1.0.20->langchain-chroma) (0.35.0)\n",
      "Requirement already satisfied: filelock in c:\\users\\gayat\\appdata\\local\\programs\\python\\python313\\lib\\site-packages (from huggingface-hub<1.0,>=0.16.4->tokenizers>=0.13.2->chromadb>=1.0.20->langchain-chroma) (3.19.1)\n",
      "Requirement already satisfied: fsspec>=2023.5.0 in c:\\users\\gayat\\appdata\\local\\programs\\python\\python313\\lib\\site-packages (from huggingface-hub<1.0,>=0.16.4->tokenizers>=0.13.2->chromadb>=1.0.20->langchain-chroma) (2025.9.0)\n",
      "Requirement already satisfied: click>=8.0.0 in c:\\users\\gayat\\appdata\\local\\programs\\python\\python313\\lib\\site-packages (from typer>=0.9.0->chromadb>=1.0.20->langchain-chroma) (8.3.0)\n",
      "Requirement already satisfied: shellingham>=1.3.0 in c:\\users\\gayat\\appdata\\local\\programs\\python\\python313\\lib\\site-packages (from typer>=0.9.0->chromadb>=1.0.20->langchain-chroma) (1.5.4)\n",
      "Requirement already satisfied: httptools>=0.6.3 in c:\\users\\gayat\\appdata\\local\\programs\\python\\python313\\lib\\site-packages (from uvicorn[standard]>=0.18.3->chromadb>=1.0.20->langchain-chroma) (0.6.4)\n",
      "Requirement already satisfied: python-dotenv>=0.13 in c:\\users\\gayat\\appdata\\local\\programs\\python\\python313\\lib\\site-packages (from uvicorn[standard]>=0.18.3->chromadb>=1.0.20->langchain-chroma) (1.1.1)\n",
      "Requirement already satisfied: watchfiles>=0.13 in c:\\users\\gayat\\appdata\\local\\programs\\python\\python313\\lib\\site-packages (from uvicorn[standard]>=0.18.3->chromadb>=1.0.20->langchain-chroma) (1.1.0)\n",
      "Requirement already satisfied: websockets>=10.4 in c:\\users\\gayat\\appdata\\local\\programs\\python\\python313\\lib\\site-packages (from uvicorn[standard]>=0.18.3->chromadb>=1.0.20->langchain-chroma) (15.0.1)\n",
      "Requirement already satisfied: sniffio>=1.1 in c:\\users\\gayat\\appdata\\local\\programs\\python\\python313\\lib\\site-packages (from anyio->httpx>=0.27.0->chromadb>=1.0.20->langchain-chroma) (1.3.1)\n",
      "Requirement already satisfied: humanfriendly>=9.1 in c:\\users\\gayat\\appdata\\local\\programs\\python\\python313\\lib\\site-packages (from coloredlogs->onnxruntime>=1.14.1->chromadb>=1.0.20->langchain-chroma) (10.0)\n",
      "Requirement already satisfied: pyreadline3 in c:\\users\\gayat\\appdata\\local\\programs\\python\\python313\\lib\\site-packages (from humanfriendly>=9.1->coloredlogs->onnxruntime>=1.14.1->chromadb>=1.0.20->langchain-chroma) (3.5.4)\n",
      "Requirement already satisfied: mpmath<1.4,>=1.1.0 in c:\\users\\gayat\\appdata\\local\\programs\\python\\python313\\lib\\site-packages (from sympy->onnxruntime>=1.14.1->chromadb>=1.0.20->langchain-chroma) (1.3.0)\n"
     ]
    }
   ],
   "source": [
    "!pip install beautifulsoup4 langchain-community tiktoken langchainhub langchain langgraph tavily-python langchain-openai python-dotenv black isort pytest\n",
    "!pip install langchain-chroma langchain_google_genai langchain-tavily==0.1.5 "
   ]
  },
  {
   "cell_type": "markdown",
   "id": "d19f2af0-0ff9-4f5d-9a4e-5e5ee773b8c4",
   "metadata": {},
   "source": [
    "#"
   ]
  },
  {
   "cell_type": "code",
   "execution_count": 2,
   "id": "39b4b42e-da17-47bb-beea-872daac8f9e1",
   "metadata": {},
   "outputs": [
    {
     "name": "stderr",
     "output_type": "stream",
     "text": [
      "C:\\Users\\gayat\\AppData\\Local\\Programs\\Python\\Python313\\Lib\\site-packages\\tqdm\\auto.py:21: TqdmWarning: IProgress not found. Please update jupyter and ipywidgets. See https://ipywidgets.readthedocs.io/en/stable/user_install.html\n",
      "  from .autonotebook import tqdm as notebook_tqdm\n",
      "USER_AGENT environment variable not set, consider setting it to identify your requests.\n"
     ]
    }
   ],
   "source": [
    "import os\n",
    "from dotenv import load_dotenv\n",
    "import tqdm as notebook_tqdm\n",
    "from langchain_google_genai import ChatGoogleGenerativeAI, GoogleGenerativeAIEmbeddings\n",
    "from langchain.text_splitter import RecursiveCharacterTextSplitter\n",
    "from langchain_chroma import Chroma\n",
    "from langchain_community.document_loaders import WebBaseLoader"
   ]
  },
  {
   "cell_type": "code",
   "execution_count": 3,
   "id": "265bf991-9e8b-4061-9c5e-606e44c1b55e",
   "metadata": {},
   "outputs": [
    {
     "data": {
      "text/plain": [
       "True"
      ]
     },
     "execution_count": 3,
     "metadata": {},
     "output_type": "execute_result"
    }
   ],
   "source": [
    "load_dotenv()"
   ]
  },
  {
   "cell_type": "code",
   "execution_count": 4,
   "id": "2dc69689-493d-4ff2-b29d-dce78450e9d0",
   "metadata": {},
   "outputs": [],
   "source": [
    "from typing import List, TypedDict\n",
    "\n",
    "class GraphState(TypedDict):\n",
    "    \"\"\"State object for workflow containing query, documents, and control flags.\"\"\"\n",
    "    question: str           # User's original query\n",
    "    generation: str         # LLM-generated response  \n",
    "    web_search: bool       # Control flag for web search requirement\n",
    "    documents: List[str]   # Retrieved document context"
   ]
  },
  {
   "cell_type": "markdown",
   "id": "044495ef-34a0-4884-878c-0a662c02f019",
   "metadata": {},
   "source": [
    "#### Create the models"
   ]
  },
  {
   "cell_type": "code",
   "execution_count": 5,
   "id": "a6b0ca7c-0095-478e-aa81-15f15fb1ec76",
   "metadata": {},
   "outputs": [],
   "source": [
    "llm_model = ChatGoogleGenerativeAI(\n",
    "    model=\"gemini-2.5-flash\",                     \n",
    "    temperature=0,                                \n",
    ")\n",
    "\n",
    "embed_model = GoogleGenerativeAIEmbeddings(model=\"models/text-embedding-004\")"
   ]
  },
  {
   "cell_type": "markdown",
   "id": "ff7622ea-31d5-4a89-a4e9-44e13d6b45aa",
   "metadata": {},
   "source": [
    "#### Create web search tool using Tavily"
   ]
  },
  {
   "cell_type": "code",
   "execution_count": 7,
   "id": "f945f6d0-5717-494a-986e-9ab0454ca565",
   "metadata": {},
   "outputs": [],
   "source": [
    "from langchain.schema import Document\n",
    "from langchain_tavily import TavilySearch\n",
    "from typing import Any, Dict\n",
    "\n",
    "web_search_tool = TavilySearch(max_results=3)\n",
    "\n",
    "def web_search(state: GraphState) -> Dict[str, Any]:\n",
    "    print(\"---WEB SEARCH---\")\n",
    "    question = state[\"question\"]\n",
    "    \n",
    "    documents = state.get(\"documents\", [])  # Get existing documents or empty list\n",
    "    \n",
    "    tavily_results = web_search_tool.invoke({\"query\": question})[\"results\"]\n",
    "    joined_tavily_result = \"\\n\".join(\n",
    "        [tavily_result[\"content\"] for tavily_result in tavily_results]\n",
    "    )\n",
    "    web_results = Document(page_content=joined_tavily_result)\n",
    "    \n",
    "    # Add web results to existing documents (or create new list if documents was empty)\n",
    "    if documents:\n",
    "        documents.append(web_results)\n",
    "    else:\n",
    "        documents = [web_results]\n",
    "    \n",
    "    return {\"documents\": documents, \"question\": question}"
   ]
  },
  {
   "cell_type": "markdown",
   "id": "a1fd9834-dd39-4e4f-a77f-b61f07559a9b",
   "metadata": {},
   "source": [
    "#### Create vectore store using chroma"
   ]
  },
  {
   "cell_type": "code",
   "execution_count": 8,
   "id": "317812d9-81cd-4f78-ad6e-fa7b257a43d5",
   "metadata": {},
   "outputs": [
    {
     "name": "stdout",
     "output_type": "stream",
     "text": [
      "Loading existing vector store...\n"
     ]
    }
   ],
   "source": [
    "def create_vectorstore():\n",
    "    \"\"\"Create or load vector store for document retrieval.\"\"\"\n",
    "    chroma_path = \"./chroma_langchain_db\"\n",
    "    \n",
    "    if os.path.exists(chroma_path):\n",
    "        print(\"Loading existing vector store...\")\n",
    "        vectorstore = Chroma(\n",
    "            persist_directory=chroma_path,\n",
    "            embedding_function=embed_model,\n",
    "            collection_name=\"rag-chroma\",\n",
    "        )\n",
    "        return vectorstore.as_retriever()\n",
    "    \n",
    "    print(\"Creating new vector store...\")\n",
    "    urls = [\n",
    "        \"https://www.webmd.com/covid/coronavirus\",\n",
    "        \"https://www.webmd.com/diabetes/type-1-diabetes\",\n",
    "        \"https://www.webmd.com/diabetes/type-2-diabetes\",\n",
    "        \"https://www.webmd.com/a-to-z-guides/understanding-anemia-basics/\",\n",
    "    ]\n",
    "\n",
    "    docs = [WebBaseLoader(url).load() for url in urls]\n",
    "    docs_list = [item for sublist in docs for item in sublist]\n",
    "\n",
    "    text_splitter = RecursiveCharacterTextSplitter.from_tiktoken_encoder(\n",
    "        chunk_size=250, \n",
    "        chunk_overlap=0\n",
    "    )\n",
    "    doc_splits = text_splitter.split_documents(docs_list)\n",
    "\n",
    "    vectorstore = Chroma.from_documents(\n",
    "        documents=doc_splits,\n",
    "        collection_name=\"rag-chroma\",\n",
    "        embedding=embed_model,\n",
    "        persist_directory=chroma_path,\n",
    "    )\n",
    "    \n",
    "    print(\"Vector store created!\")\n",
    "    return vectorstore.as_retriever()\n",
    "\n",
    "retriever = create_vectorstore()"
   ]
  },
  {
   "cell_type": "code",
   "execution_count": 10,
   "id": "a5b6a40f-db67-4af1-be0a-c2d9f4e49d86",
   "metadata": {},
   "outputs": [
    {
     "data": {
      "text/plain": [
       "[Document(id='791289f3-91a9-4942-9104-8b65ee34f795', metadata={'description': 'COVID-19 is a new type of coronavirus that causes mild to severe cases. Here’s a quick guide on how to spot symptoms, risk factors, prevent spread of the disease, and find out what to do if you think you have it.', 'title': 'Coronavirus & COVID-19 Overview: Symptoms, Risks, Prevention, Treatment & More', 'language': 'en', 'source': 'https://www.webmd.com/covid/coronavirus'}, page_content='COVID-19 SYMPTOM CHECKER\\n\\t\\t\\t\\t\\t\\t\\t\\t\\t\\t\\t\\n\\n\\n\\n                                                        <bulletlist><bulletitem><btitle>Find Out if You Have Symptoms of Coronavirus (COVID-19)</btitle><description><p><a href=\"https://www.webmd.com/coronavirus/coronavirus-assessment/default.htm\">See what to do about your symptoms and whether to call a doctor</a></p></description></bulletitem></bulletlist>'),\n",
       " Document(id='ddc98749-f2c0-4a04-816f-8f8e35c8f50c', metadata={'source': 'https://www.webmd.com/covid/coronavirus', 'description': 'COVID-19 is a new type of coronavirus that causes mild to severe cases. Here’s a quick guide on how to spot symptoms, risk factors, prevent spread of the disease, and find out what to do if you think you have it.', 'title': 'Coronavirus & COVID-19 Overview: Symptoms, Risks, Prevention, Treatment & More', 'language': 'en'}, page_content='Coronavirus & COVID-19 Overview: Symptoms, Risks, Prevention, Treatment & More'),\n",
       " Document(id='5a8a00c5-c656-4272-af51-603264051b50', metadata={'title': 'Coronavirus & COVID-19 Overview: Symptoms, Risks, Prevention, Treatment & More', 'description': 'COVID-19 is a new type of coronavirus that causes mild to severe cases. Here’s a quick guide on how to spot symptoms, risk factors, prevent spread of the disease, and find out what to do if you think you have it.', 'language': 'en', 'source': 'https://www.webmd.com/covid/coronavirus'}, page_content='if:You have a fever and a cough.You have\\xa0been exposed to people who have it within the last 14 days.Cold vs. Flu vs.Allergies vs. COVID-19SymptomsColdFluAllergiesCOVID-19(can range from moderate to severe)FeverRareHigh (100-102 F), Can last 3-4 daysNeverCommonHeadacheRareIntenseUncommonCan be presentGeneral aches, painsSlightUsual, often severeNeverCan be presentTirednessMildIntense, starts early, cSometimesCommonLonghaul\\xa0exhaustionNeverUsual gone in 2-3 weeksNeverCan be presentStuffy/runny noseCommonSometimesCommonHas been reportedSneezingUsualSometimesUsualHas been reportedSore throatCommonCommonSometimesHas been reportedCoughMild to moderateCommon, can become severeSometimesCommonLoss of smell and tasteSometimesSometimesNeverHas been reportedRashRareRareCan HappenCan HappenPink EyeCan HappenCan HappenCan HappenCan HappenDiarrheaNeverSometimes in childrenNeverHas been reportedShortness of BreathRareRareRare, except for those with allergic asthmaIn more serious infectionsChest'),\n",
       " Document(id='067a3950-9df0-4930-b552-a27a578dd024', metadata={'source': 'https://www.webmd.com/covid/coronavirus', 'language': 'en', 'description': 'COVID-19 is a new type of coronavirus that causes mild to severe cases. Here’s a quick guide on how to spot symptoms, risk factors, prevent spread of the disease, and find out what to do if you think you have it.', 'title': 'Coronavirus & COVID-19 Overview: Symptoms, Risks, Prevention, Treatment & More'}, page_content=\"researchers' work to learn more about the virus, their search for a treatment, and the success of the\\xa0vaccines.Symptoms of COVID-19The main symptoms include:Fever\\xa0CoughingShortness of breathTrouble breathingFatigueChills, sometimes with shakingBody achesHeadacheSore throatCongestion/runny noseLoss of smell or tasteNauseaDiarrheaThe virus can lead to\\xa0pneumonia, respiratory failure, heart problems, liver problems,\\xa0septic shock, and death. Many COVID-19 complications may be caused by a condition known as cytokine release syndrome or a cytokine storm. This is when an infection triggers your immune system to flood your bloodstream with inflammatory proteins called cytokines. They can kill tissue and damage your organs.\\xa0In some cases, lung transplants have been needed. If you notice the following severe symptoms in yourself or a loved one, get medical help right away:Trouble breathing\\xa0or shortness of breathOngoing\\xa0chest pain\\xa0or pressureConfusionCan't wake up fullyBluish lips or faceStrokes have also been reported in some people who have COVID-19. Remember\")]"
      ]
     },
     "execution_count": 10,
     "metadata": {},
     "output_type": "execute_result"
    }
   ],
   "source": [
    "retriever.invoke(\"Symptoms of covid\")"
   ]
  },
  {
   "cell_type": "code",
   "execution_count": 11,
   "id": "638de54b-ca85-406a-b2c7-9e6065ce3d11",
   "metadata": {},
   "outputs": [],
   "source": [
    "from typing import Literal\n",
    "from langchain_core.prompts import ChatPromptTemplate\n",
    "from pydantic import BaseModel, Field\n",
    "import sys\n",
    "import os\n",
    "\n",
    "class RouteQuery(BaseModel):\n",
    "    \"\"\"Route a user query to the most relevant datasource.\"\"\"\n",
    "\n",
    "    datasource: Literal[\"vectorstore\", \"websearch\"] = Field(\n",
    "        ...,\n",
    "        description=\"Given a user question choose to route it to web search or a vectorstore.\",\n",
    "    )\n",
    "\n",
    "llm = llm_model\n",
    "\n",
    "structured_llm_router = llm.with_structured_output(RouteQuery)\n",
    "\n",
    "system = \"\"\"You are an expert at routing a user question to a vectorstore or web search.\n",
    "The vectorstore contains documents related to covid, diabetes, anemaia.\n",
    "Use the vectorstore for questions on these topics. For any other health related questions , use web-search. \n",
    "For all other questions, do not answer and give reason\"\"\"\n",
    "\n",
    "route_prompt = ChatPromptTemplate.from_messages(\n",
    "    [\n",
    "        (\"system\", system),\n",
    "        (\"human\", \"{question}\"),\n",
    "    ]\n",
    ")\n",
    "\n",
    "question_router = route_prompt | structured_llm_router"
   ]
  },
  {
   "cell_type": "code",
   "execution_count": 12,
   "id": "f5726981-39a1-4fb3-971e-d835f959f95e",
   "metadata": {},
   "outputs": [],
   "source": [
    "from langchain_core.prompts import ChatPromptTemplate\n",
    "from pydantic import BaseModel, Field\n",
    "\n",
    "class GradeDocuments(BaseModel):\n",
    "    \"\"\"Binary score for relevance check on retrieved documents.\"\"\"\n",
    "\n",
    "    binary_score: str = Field(\n",
    "        description=\"Documents are relevant to the question, 'yes' or 'no'\"\n",
    "    )\n",
    "\n",
    "llm = llm_model\n",
    "structured_llm_grader = llm.with_structured_output(GradeDocuments)\n",
    "\n",
    "system = \"\"\"You are a grader assessing relevance of a retrieved document to a user question. \\n \n",
    "    If the document contains keyword(s) or semantic meaning related to the question, grade it as relevant. \\n\n",
    "    Give a binary score 'yes' or 'no' score to indicate whether the document is relevant to the question.\"\"\"\n",
    "\n",
    "grade_prompt = ChatPromptTemplate.from_messages(\n",
    "    [\n",
    "        (\"system\", system),\n",
    "        (\"human\", \"Retrieved document: \\n\\n {document} \\n\\n User question: {question}\"),\n",
    "    ]\n",
    ")\n",
    "\n",
    "retrieval_grader = grade_prompt | structured_llm_grader"
   ]
  },
  {
   "cell_type": "code",
   "execution_count": 13,
   "id": "5d9c908c-5ff4-4bcd-9f0a-81067d88c3e7",
   "metadata": {},
   "outputs": [],
   "source": [
    "from langchain_core.prompts import ChatPromptTemplate\n",
    "from langchain_core.runnables import RunnableSequence\n",
    "from pydantic import BaseModel, Field\n",
    "\n",
    "class GradeAnswer(BaseModel):\n",
    "\n",
    "    binary_score: bool = Field(\n",
    "        description=\"Answer addresses the question, 'yes' or 'no'\"\n",
    "    )\n",
    "\n",
    "llm =  llm_model\n",
    "structured_llm_grader = llm.with_structured_output(GradeAnswer)\n",
    "\n",
    "system = \"\"\"You are a grader assessing whether an answer addresses / resolves a question \\n \n",
    "     Give a binary score 'yes' or 'no'. Yes' means that the answer resolves the question.\"\"\"\n",
    "answer_prompt = ChatPromptTemplate.from_messages(\n",
    "    [\n",
    "        (\"system\", system),\n",
    "        (\"human\", \"User question: \\n\\n {question} \\n\\n LLM generation: {generation}\"),\n",
    "    ]\n",
    ")\n",
    "\n",
    "answer_grader: RunnableSequence = answer_prompt | structured_llm_grader"
   ]
  },
  {
   "cell_type": "code",
   "execution_count": 14,
   "id": "6f13db17-dcf2-4a9e-9577-98cb633d3955",
   "metadata": {},
   "outputs": [],
   "source": [
    "from langchain import hub\n",
    "from langchain_core.output_parsers import StrOutputParser\n",
    "\n",
    "llm = llm_model\n",
    "prompt = hub.pull(\"rlm/rag-prompt\")\n",
    "generation_chain = prompt | llm | StrOutputParser()"
   ]
  },
  {
   "cell_type": "code",
   "execution_count": 15,
   "id": "471c5119-bbfd-4302-a5c9-12950e434316",
   "metadata": {},
   "outputs": [],
   "source": [
    "def retrieve(state: GraphState) -> Dict[str, Any]:\n",
    "    \"\"\"Retrieve documents from vector store.\"\"\"\n",
    "    print(\"---RETRIEVE---\")\n",
    "    question = state[\"question\"]\n",
    "    documents = retriever.invoke(question)\n",
    "    return {\"documents\": documents, \"question\": question}\n",
    "\n",
    "def grade_documents(state: GraphState) -> Dict[str, Any]:\n",
    "    \"\"\"\n",
    "    Determines whether the retrieved documents are relevant to the question\n",
    "    If any document is not relevant, we will set a flag to run web search\n",
    "\n",
    "    Args:\n",
    "        state (dict): The current graph state\n",
    "\n",
    "    Returns:\n",
    "        state (dict): Filtered out irrelevant documents and updated web_search state\n",
    "    \"\"\"\n",
    "\n",
    "    print(\"---CHECK DOCUMENT RELEVANCE TO QUESTION---\")\n",
    "    question = state[\"question\"]\n",
    "    documents = state[\"documents\"]\n",
    "\n",
    "    filtered_docs = []\n",
    "    web_search = False\n",
    "    for d in documents:\n",
    "        score = retrieval_grader.invoke(\n",
    "            {\"question\": question, \"document\": d.page_content}\n",
    "        )\n",
    "        grade = score.binary_score\n",
    "        if grade.lower() == \"yes\":\n",
    "            print(\"---GRADE: DOCUMENT RELEVANT---\")\n",
    "            filtered_docs.append(d)\n",
    "        else:\n",
    "            print(\"---GRADE: DOCUMENT NOT RELEVANT---\")\n",
    "            web_search = True\n",
    "            continue\n",
    "    return {\"documents\": filtered_docs, \"question\": question, \"web_search\": web_search}\n",
    "\n",
    "def generate(state: GraphState) -> Dict[str, Any]:\n",
    "    \"\"\"Generate answer using documents and question.\"\"\"\n",
    "    print(\"---GENERATE---\")\n",
    "    question = state[\"question\"]\n",
    "    documents = state[\"documents\"]\n",
    "    generation = generation_chain.invoke({\"context\": documents, \"question\": question})\n",
    "    return {\"documents\": documents, \"question\": question, \"generation\": generation}"
   ]
  },
  {
   "cell_type": "code",
   "execution_count": 16,
   "id": "2ed79c4b-ef5d-49e2-b2d9-3ff5e8ee2fbc",
   "metadata": {},
   "outputs": [],
   "source": [
    "# Workflow node identifiers\n",
    "RETRIEVE = \"retrieve\"\n",
    "GRADE_DOCUMENTS = \"grade_documents\"  \n",
    "GENERATE = \"generate\"\n",
    "WEBSEARCH = \"websearch\""
   ]
  },
  {
   "cell_type": "code",
   "execution_count": 19,
   "id": "2dad612c-15da-445f-88ec-bd90a4557373",
   "metadata": {},
   "outputs": [],
   "source": [
    "from langgraph.graph import END, StateGraph\n",
    "\n",
    "def decide_to_generate(state):\n",
    "    \"\"\"Route to web search or generation.\"\"\"\n",
    "    print(\"---ASSESS DOCUMENTS---\")\n",
    "    return WEBSEARCH if state[\"web_search\"] else GENERATE\n",
    "\n",
    "def route_question(state: GraphState) -> str:\n",
    "    \"\"\"Route question to vectorstore or web search.\"\"\"\n",
    "    print(\"---ROUTE QUESTION---\")\n",
    "    source: RouteQuery = question_router.invoke({\"question\": state[\"question\"]})\n",
    "    return WEBSEARCH if source.datasource == WEBSEARCH else RETRIEVE\n",
    "\n",
    "\n",
    "# Build workflow\n",
    "workflow = StateGraph(GraphState)\n",
    "workflow.add_node(RETRIEVE, retrieve)\n",
    "workflow.add_node(GRADE_DOCUMENTS, grade_documents)\n",
    "workflow.add_node(GENERATE, generate)\n",
    "workflow.add_node(WEBSEARCH, web_search)\n",
    "\n",
    "workflow.set_conditional_entry_point(\n",
    "    route_question,\n",
    "    {WEBSEARCH: WEBSEARCH, RETRIEVE: RETRIEVE},\n",
    ")\n",
    "\n",
    "workflow.add_edge(RETRIEVE, GRADE_DOCUMENTS)\n",
    "workflow.add_conditional_edges(\n",
    "    GRADE_DOCUMENTS,\n",
    "    decide_to_generate,\n",
    "    {WEBSEARCH: WEBSEARCH, GENERATE: GENERATE},\n",
    ")\n",
    "\n",
    "workflow.add_edge(WEBSEARCH, GENERATE)\n",
    "\n",
    "app = workflow.compile()\n",
    "\n"
   ]
  },
  {
   "cell_type": "code",
   "execution_count": 20,
   "id": "07adcdbe-1a60-401d-bdd7-a03e28bb4543",
   "metadata": {},
   "outputs": [],
   "source": [
    "def format_response(result):\n",
    "    \"\"\"Extract response from workflow result.\"\"\"\n",
    "    if isinstance(result, dict) and \"generation\" in result:\n",
    "        return result[\"generation\"]\n",
    "    elif isinstance(result, dict) and \"answer\" in result:\n",
    "        return result[\"answer\"]\n",
    "    else:\n",
    "        return str(result)\n"
   ]
  },
  {
   "cell_type": "code",
   "execution_count": 21,
   "id": "c1eb4b94-09d9-43da-ab03-f971dc54361b",
   "metadata": {},
   "outputs": [
    {
     "name": "stdout",
     "output_type": "stream",
     "text": [
      "Adaptive RAG System\n",
      "Type 'quit' to exit.\n",
      "\n"
     ]
    },
    {
     "name": "stdin",
     "output_type": "stream",
     "text": [
      "Question:  What is LLM?\n"
     ]
    },
    {
     "name": "stdout",
     "output_type": "stream",
     "text": [
      "Processing...\n",
      "---ROUTE QUESTION---\n",
      "---WEB SEARCH---\n",
      "---GENERATE---\n",
      "\n",
      "Answer: Large language models (LLMs) are a type of artificial intelligence (AI) program or machine learning model. They are designed to comprehend, process, understand, and generate human language text. LLMs are trained on immense amounts of data, enabling them to perform a wide range of language-related tasks.\n"
     ]
    },
    {
     "name": "stdin",
     "output_type": "stream",
     "text": [
      "Question:  My fasting sugar is less than 60mg/dL\n"
     ]
    },
    {
     "name": "stdout",
     "output_type": "stream",
     "text": [
      "Processing...\n",
      "---ROUTE QUESTION---\n",
      "---RETRIEVE---\n",
      "---CHECK DOCUMENT RELEVANCE TO QUESTION---\n",
      "---GRADE: DOCUMENT RELEVANT---\n",
      "---GRADE: DOCUMENT RELEVANT---\n",
      "---GRADE: DOCUMENT RELEVANT---\n",
      "---GRADE: DOCUMENT RELEVANT---\n",
      "---ASSESS DOCUMENTS---\n",
      "---GENERATE---\n",
      "\n",
      "Answer: I don't know the answer. The provided context discusses Type 1 and Type 2 diabetes, their symptoms, causes, diagnosis, and treatment, as well as general information about blood sugar levels. However, it does not specify what a fasting sugar level less than 60mg/dL indicates.\n"
     ]
    },
    {
     "name": "stdin",
     "output_type": "stream",
     "text": [
      "Question:  My blood sugar level is 200mg/dL\n"
     ]
    },
    {
     "name": "stdout",
     "output_type": "stream",
     "text": [
      "Processing...\n",
      "---ROUTE QUESTION---\n",
      "---RETRIEVE---\n",
      "---CHECK DOCUMENT RELEVANCE TO QUESTION---\n",
      "---GRADE: DOCUMENT RELEVANT---\n",
      "---GRADE: DOCUMENT RELEVANT---\n",
      "---GRADE: DOCUMENT RELEVANT---\n",
      "---GRADE: DOCUMENT RELEVANT---\n",
      "---ASSESS DOCUMENTS---\n",
      "---GENERATE---\n",
      "\n",
      "Answer: I don't know the answer based on the provided context. The documents discuss type 1 and type 2 diabetes and mention \"unusual blood sugar levels\" but do not specify what a 200mg/dL level indicates.\n"
     ]
    },
    {
     "name": "stdin",
     "output_type": "stream",
     "text": [
      "Question:  symptoms of type 1 diabetes\n"
     ]
    },
    {
     "name": "stdout",
     "output_type": "stream",
     "text": [
      "Processing...\n",
      "---ROUTE QUESTION---\n",
      "---RETRIEVE---\n",
      "---CHECK DOCUMENT RELEVANCE TO QUESTION---\n",
      "---GRADE: DOCUMENT RELEVANT---\n",
      "---GRADE: DOCUMENT RELEVANT---\n",
      "---GRADE: DOCUMENT NOT RELEVANT---\n",
      "---GRADE: DOCUMENT RELEVANT---\n",
      "---ASSESS DOCUMENTS---\n",
      "---WEB SEARCH---\n",
      "---GENERATE---\n",
      "\n",
      "Answer: Symptoms of type 1 diabetes can appear quickly and include extreme thirst, increased hunger, and frequent urination. Other common signs are unexplained weight loss, feeling tired or weak, dry mouth, and mood changes. Some individuals may also experience upset stomach, vomiting, vision changes, or repeated infections.\n"
     ]
    },
    {
     "name": "stdin",
     "output_type": "stream",
     "text": [
      "Question:  quit\n"
     ]
    }
   ],
   "source": [
    "print(\"Adaptive RAG System\")\n",
    "print(\"Type 'quit' to exit.\\n\")\n",
    "\n",
    "while True:\n",
    "    try:\n",
    "        question = input(\"Question: \").strip()\n",
    "        \n",
    "        if question.lower() in ['quit', 'exit', 'q', '']:\n",
    "            break\n",
    "            \n",
    "        print(\"Processing...\")\n",
    "        result = None\n",
    "        for output in app.stream({\"question\": question}):\n",
    "            for key, value in output.items():\n",
    "                result = value\n",
    "                \n",
    "        if result:\n",
    "            print(f\"\\nAnswer: {format_response(result)}\")\n",
    "        else:\n",
    "            print(\"No response generated.\")\n",
    "            \n",
    "    except KeyboardInterrupt:\n",
    "        break\n",
    "    except Exception as e:\n",
    "        print(f\"Error: {str(e)}\")"
   ]
  },
  {
   "cell_type": "code",
   "execution_count": null,
   "id": "27d67e95-9005-43b5-9627-5628d48dd3d1",
   "metadata": {},
   "outputs": [],
   "source": []
  }
 ],
 "metadata": {
  "kernelspec": {
   "display_name": "Python 3 (ipykernel)",
   "language": "python",
   "name": "python3"
  },
  "language_info": {
   "codemirror_mode": {
    "name": "ipython",
    "version": 3
   },
   "file_extension": ".py",
   "mimetype": "text/x-python",
   "name": "python",
   "nbconvert_exporter": "python",
   "pygments_lexer": "ipython3",
   "version": "3.13.7"
  }
 },
 "nbformat": 4,
 "nbformat_minor": 5
}
